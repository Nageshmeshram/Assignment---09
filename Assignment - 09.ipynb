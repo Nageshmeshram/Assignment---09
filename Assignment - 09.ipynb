{
 "cells": [
  {
   "cell_type": "markdown",
   "id": "76ee56f6",
   "metadata": {},
   "source": [
    "1. To what does a relative path refer?\n",
    "Answer: \n",
    "A relative path in Python is a path that describes the location of a directory relative to the entry point   where we run the Python code"
   ]
  },
  {
   "cell_type": "markdown",
   "id": "394e3d8b",
   "metadata": {},
   "source": [
    "2. What does an absolute path start with your operating system?\n",
    "Answer: \n",
    "An absolute path is a path that contains the entire path to the file or directory that you need to access. This path will begin at the home directory of your computer and will end with the file or directory that you wish to access."
   ]
  },
  {
   "cell_type": "markdown",
   "id": "1dede354",
   "metadata": {},
   "source": [
    "3. What do the functions os.getcwd() and os.chdir() do?\n",
    "Answer:\n",
    "getcwd() : CWD stands for Current Working Directory. This function allows you to see what your current working directory is. chdir(\"path-to-dir\") : Short for CHange DIRectory, this function allows you to set the current working directory to a path of your choice."
   ]
  },
  {
   "cell_type": "code",
   "execution_count": 3,
   "id": "cd9d475c",
   "metadata": {},
   "outputs": [
    {
     "data": {
      "text/plain": [
       "'C:\\\\Users\\\\LENOVO'"
      ]
     },
     "execution_count": 3,
     "metadata": {},
     "output_type": "execute_result"
    }
   ],
   "source": [
    "import os\n",
    "os.getcwd() # this gives us the current working path of the location of file"
   ]
  },
  {
   "cell_type": "code",
   "execution_count": 10,
   "id": "dc00f5bc",
   "metadata": {},
   "outputs": [],
   "source": [
    "import os\n",
    "os.chdir(r'C:\\Users\\LENOVO\\Desktop\\python codes') # this is used to chnage the loaction of working file"
   ]
  },
  {
   "cell_type": "code",
   "execution_count": 11,
   "id": "1684ed9c",
   "metadata": {},
   "outputs": [
    {
     "data": {
      "text/plain": [
       "'C:\\\\Users\\\\LENOVO\\\\Desktop\\\\python codes'"
      ]
     },
     "execution_count": 11,
     "metadata": {},
     "output_type": "execute_result"
    }
   ],
   "source": [
    "import os\n",
    "os.getcwd() # this show the loaction has been changed "
   ]
  },
  {
   "cell_type": "markdown",
   "id": "95a952c8",
   "metadata": {},
   "source": [
    "4. What are the . and .. folders?\n",
    "Answer:\n",
    "Relative paths make use of two special symbols, a dot (.) and a double-dot (..), which translate into the current directory and the parent directory. Double dots are used for moving up in the hierarchy. A single dot represents the current directory itself."
   ]
  },
  {
   "cell_type": "markdown",
   "id": "0f6a04d7",
   "metadata": {},
   "source": [
    "5. In C:\\bacon\\eggs\\spam.txt, which part is the dir name, and which part is the base name?\n",
    "Answer:\n",
    "Dir name = C:\\bacon\\eggs\\\n",
    "Base name = spam.txt"
   ]
  },
  {
   "cell_type": "markdown",
   "id": "a3cede6c",
   "metadata": {},
   "source": [
    "6. What are the three “mode” arguments that can be passed to the open() function?\n",
    "Answer:\n",
    "we can open the file in three mode \n",
    "w = for write only mode\n",
    "r = for read only mode\n",
    "a = for append mode"
   ]
  },
  {
   "cell_type": "markdown",
   "id": "bb22e321",
   "metadata": {},
   "source": [
    "7. What happens if an existing file is opened in write mode?\n",
    "Answer:\n",
    " w : Opens in write-only mode. The pointer is placed at the beginning of the file and this will overwrite any existing file with the same name. It will create a new file if one with the same name doesn't exis"
   ]
  },
  {
   "cell_type": "markdown",
   "id": "87f6189a",
   "metadata": {},
   "source": [
    "8. How do you tell the difference between read() and readlines()?\n",
    "Answer:\n",
    "read() it will read the all content from the file\n",
    "readline() it will read line by line from the file\n"
   ]
  },
  {
   "cell_type": "markdown",
   "id": "ee32f3b2",
   "metadata": {},
   "source": [
    " 9. What data structure does a shelf value resemble?\n",
    " Answer:\n",
    " A shelf value resembles a dictionary value; it has keys and values, along with keys() and values() methods that work similarly to the dictionary methods of the same names."
   ]
  }
 ],
 "metadata": {
  "kernelspec": {
   "display_name": "Python 3 (ipykernel)",
   "language": "python",
   "name": "python3"
  },
  "language_info": {
   "codemirror_mode": {
    "name": "ipython",
    "version": 3
   },
   "file_extension": ".py",
   "mimetype": "text/x-python",
   "name": "python",
   "nbconvert_exporter": "python",
   "pygments_lexer": "ipython3",
   "version": "3.9.12"
  }
 },
 "nbformat": 4,
 "nbformat_minor": 5
}
